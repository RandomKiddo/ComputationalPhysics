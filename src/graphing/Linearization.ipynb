{
 "cells": [
  {
   "cell_type": "markdown",
   "metadata": {},
   "source": [
    "# Linearization\n",
    "<sub>Section 1.e - Linearization</sub>\n",
    "\n",
    "In this section, we'll go more in depth on how linearization works in python\n",
    "\n",
    "### Dependencies Required\n",
    "- pylab\n",
    "- numpy"
   ]
  },
  {
   "cell_type": "code",
   "execution_count": 2,
   "metadata": {},
   "outputs": [],
   "source": [
    "from pylab import plot, show, scatter\n",
    "from numpy import array, polyfit "
   ]
  },
  {
   "cell_type": "markdown",
   "metadata": {},
   "source": [
    "### Using a Scatter Plot to Linearize\n",
    "\n",
    "Let's assume our scatter plot looked like the following:"
   ]
  },
  {
   "cell_type": "code",
   "execution_count": 7,
   "metadata": {},
   "outputs": [
    {
     "data": {
      "image/png": "[encoded data removed]",
      "text/plain": [
       "<Figure size 432x288 with 1 Axes>"
      ]
     },
     "metadata": {
      "needs_background": "light"
     },
     "output_type": "display_data"
    }
   ],
   "source": [
    "x = [0, 1, 2, 3, 4, 5, 6, 7, 8, 9, 10]\n",
    "y = [0, 1, 2**.5-.1, 3**.5+.1, 2, 5**.5-.05, 6**.5-.1, 7**.5+.1, 8**.5, 3, 10**.5]\n",
    "scatter(x, y)\n",
    "show()"
   ]
  },
  {
   "cell_type": "markdown",
   "metadata": {},
   "source": [
    "Without looking at the coded values, this is a very clear square root relationship. We will not go over linearization techniques, but in this case, we need to graph `y^2 vs x` to linearize."
   ]
  },
  {
   "cell_type": "code",
   "execution_count": 10,
   "metadata": {},
   "outputs": [
    {
     "data": {
      "image/png": "[encoded data removed]",
      "text/plain": [
       "<Figure size 432x288 with 1 Axes>"
      ]
     },
     "metadata": {
      "needs_background": "light"
     },
     "output_type": "display_data"
    }
   ],
   "source": [
    "y_squared = [i*i for i in y]\n",
    "scatter(x, y_squared)\n",
    "show()"
   ]
  },
  {
   "cell_type": "markdown",
   "metadata": {},
   "source": [
    "By using our polyfit technique from the scatter plot section, we can create a line of best-fit for this data and calculate its r^2 (coefficient of determination) value"
   ]
  },
  {
   "cell_type": "code",
   "execution_count": 12,
   "metadata": {},
   "outputs": [
    {
     "data": {
      "image/png": "[encoded data removed]",
      "text/plain": [
       "<Figure size 432x288 with 1 Axes>"
      ]
     },
     "metadata": {
      "needs_background": "light"
     },
     "output_type": "display_data"
    }
   ],
   "source": [
    "m, b = polyfit(array(x), array(y_squared), 1) # 1 represents one degree of x\n",
    "scatter(x, y_squared)\n",
    "plot(x, m*array(x)+b) # array(x) required to multiply by m and add by b\n",
    "show()"
   ]
  },
  {
   "cell_type": "markdown",
   "metadata": {},
   "source": [
    "To calculate the coefficient of determination, we can use the following method:"
   ]
  },
  {
   "cell_type": "code",
   "execution_count": 14,
   "metadata": {},
   "outputs": [
    {
     "data": {
      "text/plain": [
       "0.9931691281531067"
      ]
     },
     "execution_count": 14,
     "metadata": {},
     "output_type": "execute_result"
    }
   ],
   "source": [
    "from numpy import corrcoef\n",
    "correlation_matrix = corrcoef(x, y_squared)\n",
    "correlation_xy = correlation_matrix[0, 1]\n",
    "r_squared = correlation_xy**2\n",
    "r_squared"
   ]
  },
  {
   "cell_type": "markdown",
   "metadata": {},
   "source": [
    "### Working More with Polyfit and Corrcoef\n",
    "\n",
    "So how does `polyfit` work? <br>\n",
    "Well, in short, the method just takes variable data (in our case `x` and `y_squared`) and calculates its coefficients to the degree parameter defined.\n",
    "\n",
    "These are degrees of a function: <br>\n",
    "x --> one degree <br>\n",
    "x^2 --> two degrees <br>\n",
    "x^5 --> five degrees <br>\n",
    "So on and so forth <br>\n",
    "\n",
    "Basically, the degree of a function is the largest exponent value in it's series of terms\n",
    "***Degrees of a function only work for whole numbers***\n",
    "\n",
    "If you know what coefficients will be returned, you can set a sequence return like we did: <br>\n",
    "```py\n",
    "m, b = polyfit(x, y, 1)\n",
    "```\n",
    "\n",
    "We can do this because we know any function that will have one degree will be in the form of y=mx+b, so we know the return will be m and b. However, if the return is unknown, yo ucan just set the return value to a variable, and a numpy array will be returned like the following:\n"
   ]
  },
  {
   "cell_type": "code",
   "execution_count": 15,
   "metadata": {},
   "outputs": [
    {
     "data": {
      "text/plain": [
       "array([0.27755382, 0.65025621])"
      ]
     },
     "execution_count": 15,
     "metadata": {},
     "output_type": "execute_result"
    }
   ],
   "source": [
    "coefficients = polyfit(x, y, 1)\n",
    "coefficients"
   ]
  },
  {
   "cell_type": "markdown",
   "metadata": {},
   "source": [
    "`corrcoef` returns Pearson product-moment correlation coefficients. If you don't know what that is, that's ok, we don't need to go that far in depth. \n",
    "\n",
    "All we need to know that for any straight line regression, a 2x2 matrix with the correlation coefficient will be returned. In any case, there will only be two values that are mirrored onto one another for correlation coefficients of a straight line."
   ]
  },
  {
   "cell_type": "code",
   "execution_count": 16,
   "metadata": {},
   "outputs": [
    {
     "data": {
      "text/plain": [
       "array([[1.        , 0.99751037],\n",
       "       [0.99751037, 1.        ]])"
      ]
     },
     "execution_count": 16,
     "metadata": {},
     "output_type": "execute_result"
    }
   ],
   "source": [
    "example_matrix = corrcoef([1, 2, 3, 4, 5], [3, 4.1, 5.2, 5.9, 7])\n",
    "example_matrix"
   ]
  },
  {
   "cell_type": "markdown",
   "metadata": {},
   "source": [
    "Since there are mirrored values, we only need the one value which is not equal to 1, which will give us our correlation, r. But we need r^2, so we just square the values. In every case, the index `[0, 1]` will not contain the value of 1."
   ]
  },
  {
   "cell_type": "code",
   "execution_count": 18,
   "metadata": {},
   "outputs": [
    {
     "data": {
      "text/plain": [
       "0.9975103695813372"
      ]
     },
     "execution_count": 18,
     "metadata": {},
     "output_type": "execute_result"
    }
   ],
   "source": [
    "r = example_matrix[0, 1]\n",
    "r"
   ]
  },
  {
   "cell_type": "code",
   "execution_count": 19,
   "metadata": {},
   "outputs": [
    {
     "data": {
      "text/plain": [
       "0.995026937422296"
      ]
     },
     "execution_count": 19,
     "metadata": {},
     "output_type": "execute_result"
    }
   ],
   "source": [
    "r_squared = r**2\n",
    "r_squared"
   ]
  },
  {
   "cell_type": "markdown",
   "metadata": {},
   "source": [
    "Here is another example of another set of data to prove the statements made earlier:"
   ]
  },
  {
   "cell_type": "code",
   "execution_count": 22,
   "metadata": {},
   "outputs": [
    {
     "name": "stdout",
     "output_type": "stream",
     "text": [
      "[[1.         0.99990633]\n",
      " [0.99990633 1.        ]]\n",
      "0.99990632588303\n",
      "0.9998126605409001\n"
     ]
    }
   ],
   "source": [
    "matrix_two = corrcoef([0, 1, 2, 3, 4], [10, 20.1, 30.4, 39.8, 50.1])\n",
    "print(matrix_two)\n",
    "r = matrix_two[0, 1]\n",
    "print(r)\n",
    "r_squared = r**2\n",
    "print(r_squared) # print statements were used to display multiple results"
   ]
  },
  {
   "cell_type": "markdown",
   "metadata": {},
   "source": [
    "### Polyfit Without Linearizing\n",
    "\n",
    "It is possible to fit without linearizing. As physicists, this is not recommended as calculating necessary slopes in lab setups can be difficult without linearizing. However, here's how one would fit data without linearizing. However, `polyfit` only can *polynomial* fit. This means x^n power functions. It cannot fit square roots, logarithms, or exponentials. This is where linearizing would be useful.\n",
    "\n",
    "Imagine this is our sample graph:"
   ]
  },
  {
   "cell_type": "code",
   "execution_count": 27,
   "metadata": {},
   "outputs": [
    {
     "data": {
      "image/png": "[encoded data removed]",
      "text/plain": [
       "<Figure size 432x288 with 1 Axes>"
      ]
     },
     "metadata": {
      "needs_background": "light"
     },
     "output_type": "display_data"
    }
   ],
   "source": [
    "x = [0, 1, 2, 3, 4, 5]\n",
    "y = [0, 1, 3.89, 10.02, 15.34, 24.95]\n",
    "scatter(x, y)\n",
    "show()"
   ]
  },
  {
   "cell_type": "markdown",
   "metadata": {},
   "source": [
    "This can be easily distinguished as a squared function in the form of y=ax^2+bx+c"
   ]
  },
  {
   "cell_type": "code",
   "execution_count": 28,
   "metadata": {},
   "outputs": [
    {
     "data": {
      "image/png": "[encoded data removed]",
      "text/plain": [
       "<Figure size 432x288 with 1 Axes>"
      ]
     },
     "metadata": {
      "needs_background": "light"
     },
     "output_type": "display_data"
    }
   ],
   "source": [
    "a, b, c = polyfit(x, y, 2)\n",
    "scatter(x, y)\n",
    "plot(x, a*(array(x)**2) + b*array(x) + c)\n",
    "show()"
   ]
  },
  {
   "cell_type": "markdown",
   "metadata": {},
   "source": [
    "Calculating coefficient of determinations for this type of fit are a little more complicated than the simple linear fit because `corrcoef` specifies that the `y` array needs to have the same shape as `x` for calculations to work. This is why linearization is recommended when working in python for physics purposes."
   ]
  },
  {
   "cell_type": "markdown",
   "metadata": {},
   "source": [
    "### More Reading\n",
    "\n",
    "For more reading on linearization, see this [explanation page](https://www.mrwaynesclass.com/labs/index06.html)\n",
    "\n",
    "For more reading on polyfit, see the [numpy documentation on polyfit](https://numpy.org/doc/stable/reference/generated/numpy.polyfit.html)\n",
    "\n",
    "For more reading on corrcoef, see the [numpy documentation on corrcoef](https://numpy.org/doc/stable/reference/generated/numpy.corrcoef.html)"
   ]
  }
 ],
 "metadata": {
  "interpreter": {
   "hash": "893beb1b33076e25008b70dfb2e3e4a12c92ff6a81f2b58fbcf6dcda191cc5fc"
  },
  "kernelspec": {
   "display_name": "Python 3.10.2 64-bit (windows store)",
   "language": "python",
   "name": "python3"
  },
  "language_info": {
   "codemirror_mode": {
    "name": "ipython",
    "version": 3
   },
   "file_extension": ".py",
   "mimetype": "text/x-python",
   "name": "python",
   "nbconvert_exporter": "python",
   "pygments_lexer": "ipython3",
   "version": "3.10.2"
  },
  "orig_nbformat": 4
 },
 "nbformat": 4,
 "nbformat_minor": 2
}
