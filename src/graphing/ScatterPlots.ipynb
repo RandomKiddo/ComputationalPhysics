{
 "cells": [
  {
   "cell_type": "markdown",
   "metadata": {},
   "source": [
    "# Scatter Plots\n",
    "<sub>Section 1.b - Scatter Plots</sub>\n",
    "\n",
    "In this section, details on how to make scatter plots of sample data in python will be provided.\n",
    "\n",
    "### Dependencies Required\n",
    "- pylab\n",
    "- numpy"
   ]
  },
  {
   "cell_type": "code",
   "execution_count": 4,
   "metadata": {},
   "outputs": [],
   "source": [
    "from pylab import scatter, show, plot\n",
    "from numpy import linspace, sin"
   ]
  },
  {
   "cell_type": "markdown",
   "metadata": {},
   "source": [
    "### Using Dots For Plots\n",
    "\n",
    "Using the `.` in the style string, we can create thin dots on a graph like the following:"
   ]
  },
  {
   "cell_type": "code",
   "execution_count": 7,
   "metadata": {},
   "outputs": [
    {
     "data": {
      "image/png": "[encoded data removed]",
      "text/plain": [
       "<Figure size 432x288 with 1 Axes>"
      ]
     },
     "metadata": {
      "needs_background": "light"
     },
     "output_type": "display_data"
    }
   ],
   "source": [
    "x = linspace(0, 7, 100)\n",
    "y = sin(x)\n",
    "plot(x, y, '.')\n",
    "show()"
   ]
  },
  {
   "cell_type": "markdown",
   "metadata": {},
   "source": [
    "### Scattering Data\n",
    "\n",
    "Let's assume our scatter plot data is like the following:\n",
    "```\n",
    "7.2     5.23\n",
    "8.3     3.32\n",
    "1.0     4.38\n",
    "11.0    3.43\n",
    "9.9     0.23\n",
    "2.6     3.21\n",
    "3.4     9.83\n",
    "7.7     4.55\n",
    "0.3     3.44\n",
    "9.9     23.2\n",
    "```\n",
    "\n",
    "We can use the `scatter` function to create a scatter plot of this data. The `scatter` function takes in an array of x-values and an array of y-values to plot"
   ]
  },
  {
   "cell_type": "code",
   "execution_count": 10,
   "metadata": {},
   "outputs": [
    {
     "data": {
      "image/png": "[encoded data removed]",
      "text/plain": [
       "<Figure size 432x288 with 1 Axes>"
      ]
     },
     "metadata": {
      "needs_background": "light"
     },
     "output_type": "display_data"
    }
   ],
   "source": [
    "x = [7.2, 8.3, 1.0, 11.0, 9.9, 2.6, 3.4, 7.7, 0.3, 9.9]\n",
    "y = [5.23, 3.32, 4.38, 3.43, 0.23, 3.21, 9.83, 4.55, 3.44, 23.2]\n",
    "scatter(x, y)\n",
    "show()"
   ]
  },
  {
   "cell_type": "markdown",
   "metadata": {},
   "source": [
    "### Line of Best-Fit\n",
    "\n",
    "Using the `polyfit` function in the numpy library, a line of best-fit of a scatter plot can be graphed\n",
    "\n",
    "The `polyfit` function takes three parameters: an x-value array, a y-value array, and the function degree number. A linear line has a degree of 1, a quadratic of 2, etc. "
   ]
  },
  {
   "cell_type": "code",
   "execution_count": 15,
   "metadata": {},
   "outputs": [
    {
     "data": {
      "image/png": "[encoded data removed]",
      "text/plain": [
       "<Figure size 432x288 with 1 Axes>"
      ]
     },
     "metadata": {
      "needs_background": "light"
     },
     "output_type": "display_data"
    }
   ],
   "source": [
    "from numpy import polyfit, array\n",
    "x = [1, 3, 5, 7]\n",
    "y = [6, 2, 10, 4]\n",
    "m, b = polyfit(x, y, 1) # fit the data, m is the slope and b is the y-intercept\n",
    "scatter(x, y)\n",
    "plot(array(x), m*array(x) + b)\n",
    "show()"
   ]
  },
  {
   "cell_type": "markdown",
   "metadata": {},
   "source": [
    "###### Note: for `polyfit` to work, both arrays need to be numpy.array not a python list - [numpy.array](https://numpy.org/doc/stable/reference/generated/numpy.array.html)"
   ]
  },
  {
   "cell_type": "markdown",
   "metadata": {},
   "source": [
    "###### Continue to [Section 1.c - Density Plots](https://github.com/RandomKiddo/ComputationalPhysics/blob/master/src/graphing/DensityPlots.ipynb)"
   ]
  }
 ],
 "metadata": {
  "interpreter": {
   "hash": "893beb1b33076e25008b70dfb2e3e4a12c92ff6a81f2b58fbcf6dcda191cc5fc"
  },
  "kernelspec": {
   "display_name": "Python 3.10.2 64-bit (windows store)",
   "language": "python",
   "name": "python3"
  },
  "language_info": {
   "codemirror_mode": {
    "name": "ipython",
    "version": 3
   },
   "file_extension": ".py",
   "mimetype": "text/x-python",
   "name": "python",
   "nbconvert_exporter": "python",
   "pygments_lexer": "ipython3",
   "version": "3.10.2"
  },
  "orig_nbformat": 4
 },
 "nbformat": 4,
 "nbformat_minor": 2
}
