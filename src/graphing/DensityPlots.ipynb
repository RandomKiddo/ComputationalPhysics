{
 "cells": [
  {
   "cell_type": "markdown",
   "metadata": {},
   "source": [
    "# Density Plots\n",
    "<sub>Section 1.c - Density Plots</sub>\n",
    "\n",
    "In this section, the use of density plots and heat maps will be defined\n",
    "\n",
    "### Dependencies Required\n",
    "- pylab\n",
    "- numpy"
   ]
  },
  {
   "cell_type": "code",
   "execution_count": 11,
   "metadata": {},
   "outputs": [],
   "source": [
    "from pylab import imshow, show\n",
    "from numpy import loadtxt"
   ]
  },
  {
   "cell_type": "markdown",
   "metadata": {},
   "source": [
    "### Creating a Density Plot\n",
    "\n",
    "Imagine you had values lined up like the following in a text file:\n",
    "```\n",
    "1   2   3   4 ...\n",
    "5   6   7   8 ...\n",
    "...\n",
    "```\n",
    "\n",
    "Actual data values were stored in a text file called `DensityPlotFile.txt`. Although the file is ignored in this repository, the file can be downloaded by downloading the repository contents package. The dots represent continued rows and columns."
   ]
  },
  {
   "cell_type": "code",
   "execution_count": 12,
   "metadata": {},
   "outputs": [
    {
     "data": {
      "image/png": "[encoded data removed]",
      "text/plain": [
       "<Figure size 432x288 with 1 Axes>"
      ]
     },
     "metadata": {
      "needs_background": "light"
     },
     "output_type": "display_data"
    }
   ],
   "source": [
    "data = loadtxt('DensityPlotFile.txt', int)\n",
    "imshow(data)\n",
    "show()"
   ]
  },
  {
   "cell_type": "markdown",
   "metadata": {},
   "source": [
    "##### Explanation\n",
    "\n",
    "The `loadtxt` function, as stated prior, loads in the values for the plot with the given data type (in this case `int`). The function automatically reads this input as a two-dimensional array. Then each number is plotted with a color that represents the density of the number *relative to the rest of the numbers in the dataset*. \n",
    "\n",
    "The `imshow` function plots the given data as a density plot and `show` displays the plot to the viewer. "
   ]
  },
  {
   "cell_type": "markdown",
   "metadata": {},
   "source": [
    "### Swapping the Origin\n",
    "\n",
    "As seen above, the density plot doesn't really have an \"origin\". The top of the y-axis starts at 0, and the left-most point of the x-axis starts at 0. This can be easily fixed by passing `origin='lower'` into the `imshow` function.\n",
    "\n",
    "This can be useful when location is important in your density plot."
   ]
  },
  {
   "cell_type": "code",
   "execution_count": 13,
   "metadata": {},
   "outputs": [
    {
     "data": {
      "text/plain": [
       "<matplotlib.image.AxesImage at 0x25ab8550580>"
      ]
     },
     "execution_count": 13,
     "metadata": {},
     "output_type": "execute_result"
    },
    {
     "data": {
      "image/png": "[encoded data removed]",
      "text/plain": [
       "<Figure size 432x288 with 1 Axes>"
      ]
     },
     "metadata": {
      "needs_background": "light"
     },
     "output_type": "display_data"
    }
   ],
   "source": [
    "imshow(data, origin='lower')"
   ]
  },
  {
   "cell_type": "markdown",
   "metadata": {},
   "source": [
    "### Coloring\n",
    "\n",
    "The coloring of these plots are sometimes useful, especially when making density plots of heat, precipitation, population, and other types of plots. However, these colors are arbitrary and can be hard to understand. For example, in our custom plot, does yellow represent more or less dense? By looking at the sample data, yellow means more dense, but that can be confusing to outsiders viewing your plot. Luckily, the colors can be swapped out for a simpler black and white color scheme (aka grayscale). This is more intuitive to figure out (black = less dense, white = more dense).\n",
    "\n",
    "The `gray` function in pylab can be used to achieve this."
   ]
  },
  {
   "cell_type": "code",
   "execution_count": 14,
   "metadata": {},
   "outputs": [
    {
     "data": {
      "image/png": "[encoded data removed]",
      "text/plain": [
       "<Figure size 432x288 with 1 Axes>"
      ]
     },
     "metadata": {
      "needs_background": "light"
     },
     "output_type": "display_data"
    }
   ],
   "source": [
    "from pylab import gray\n",
    "imshow(data, origin='lower')\n",
    "gray()\n",
    "show()"
   ]
  },
  {
   "cell_type": "markdown",
   "metadata": {},
   "source": [
    "### List of Schemes\n",
    "\n",
    "There are many color schemes besides the default and grayscale that are useful to know:\n",
    "\n",
    "`jet` --> default heat-map scheme <br>\n",
    "`gray` --> black to white grayscale <br>\n",
    "`hot` --> A black-red-yellow-white heat-map <br>\n",
    "`nipy_spectral` --> A multicolor spectrum including black and white <br>\n",
    "`hsv` --> A rainbow scheme starting and ending with red <br>\n",
    "`bone` --> Alternative grayscale scheme with some blues <br>\n",
    "\n",
    "Including the schemes above, the following couple of schemes are useful for physics purposes:\n",
    "\n",
    "`redblue` --> Scheme from red to blue through the use of black <br>\n",
    "`redwhiteblue` --> Scheme from red to blue through the use of white <br>\n",
    "`inversegray` --> Scheme from white to black instead of black to white <br>\n",
    "\n",
    "More schemes and examples can be found in the [online documentation](https://matplotlib.org/stable/tutorials/colors/colormaps.html) for pylab's parent package, [matplotlib](https://matplotlib.org/)"
   ]
  },
  {
   "cell_type": "markdown",
   "metadata": {},
   "source": [
    "### Other Useful Functions\n",
    "\n",
    "Both the `xlabel` and `ylabel` functions identified in the sections prior to this one work exactly the same. \n",
    "\n",
    "For custom scales, you can use the parameter `extent` which takes a list of four elements that define, in order, the beginning of the horizontal scale, end of the horizontal scale, beginning of the vertical scale, and end of the vertical scale. \n",
    "\n",
    "Another thing we may want to control is the aspect ratio of the graph. We can pass in another parameter, `aspect`, which takes a float value representing the aspect ratio."
   ]
  },
  {
   "cell_type": "markdown",
   "metadata": {},
   "source": [
    "### Putting It All Together"
   ]
  },
  {
   "cell_type": "code",
   "execution_count": 18,
   "metadata": {},
   "outputs": [
    {
     "data": {
      "image/png": "[encoded data removed]",
      "text/plain": [
       "<Figure size 432x288 with 1 Axes>"
      ]
     },
     "metadata": {
      "needs_background": "light"
     },
     "output_type": "display_data"
    }
   ],
   "source": [
    "from pylab import nipy_spectral as spectral\n",
    "imshow(data, origin='lower', extent=[0,10,0,5], aspect=1.3)\n",
    "spectral()\n",
    "show()"
   ]
  }
 ],
 "metadata": {
  "interpreter": {
   "hash": "893beb1b33076e25008b70dfb2e3e4a12c92ff6a81f2b58fbcf6dcda191cc5fc"
  },
  "kernelspec": {
   "display_name": "Python 3.10.2 64-bit (windows store)",
   "language": "python",
   "name": "python3"
  },
  "language_info": {
   "codemirror_mode": {
    "name": "ipython",
    "version": 3
   },
   "file_extension": ".py",
   "mimetype": "text/x-python",
   "name": "python",
   "nbconvert_exporter": "python",
   "pygments_lexer": "ipython3",
   "version": "3.10.2"
  },
  "orig_nbformat": 4
 },
 "nbformat": 4,
 "nbformat_minor": 2
}
